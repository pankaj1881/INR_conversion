{
 "cells": [
  {
   "cell_type": "code",
   "execution_count": 74,
   "metadata": {},
   "outputs": [],
   "source": [
    "from text_to_number import text_to_number_amount\n"
   ]
  },
  {
   "cell_type": "code",
   "execution_count": 79,
   "metadata": {},
   "outputs": [],
   "source": [
    "amount_list = [\" send twenty lakhu rupee\",\"twenty two crore rupees\", \"seventy three lakh rupees and five paisa\" ,\"twenty five lakh thirty two thousand five hundred and twenty two rupees and fifty paisa\",\n",
    "          \"five thousand rupees\", \"fifty five thousand five hundred and fifty five rupees and fifty two paisa\",\"fifty five thousand five hundred and fifty five rupees and fifty two paisa\",\n",
    "          \"five rupees ONLY\",\n",
    "          \"TELEVE RUPEES AND TWENTY FIVE Payse\", \n",
    "          \"two thousand five hundred rupees and ninety nine paisa\",\"TWENTY THOUSAND five rupees\",\n",
    "          \"one lak five thousand eight hundred forty rupees\",\n",
    "          \"one lac five thousEnd eight hundred forty rupees five paise\",\"five thousand rs and five paisa\",\n",
    "          \"five hundred rs\",\n",
    "          \"twenty-two hundred and fifty five rs two paise\",\n",
    "          \"six thousand rupees\",\n",
    "          \"seventeen\"\n",
    "\n",
    "        ]"
   ]
  },
  {
   "cell_type": "code",
   "execution_count": 80,
   "metadata": {},
   "outputs": [
    {
     "data": {
      "text/plain": [
       "[{'text_amount': 'send twenty lakh rupees', 'number_amount': 2000000.0},\n",
       " {'text_amount': 'twenty two crore rupees', 'number_amount': 220000000.0},\n",
       " {'text_amount': 'seventy three lakh rupees and five paisa',\n",
       "  'number_amount': 7300000.05},\n",
       " {'text_amount': 'twenty five lakh thirty two thousand five hundred and twenty two rupees and fifty paisa',\n",
       "  'number_amount': 2532522.5},\n",
       " {'text_amount': 'five thousand rupees', 'number_amount': 5000.0},\n",
       " {'text_amount': 'fifty five thousand five hundred and fifty five rupees and fifty two paisa',\n",
       "  'number_amount': 55555.52},\n",
       " {'text_amount': 'fifty five thousand five hundred and fifty five rupees and fifty two paisa',\n",
       "  'number_amount': 55555.52},\n",
       " {'text_amount': 'five rupees one', 'number_amount': 5.0},\n",
       " {'text_amount': 'twelve rupees and twenty five paisa',\n",
       "  'number_amount': 12.25},\n",
       " {'text_amount': 'two thousand five hundred rupees and ninety nine paisa',\n",
       "  'number_amount': 2500.99},\n",
       " {'text_amount': 'twenty thousand five rupees', 'number_amount': 20005.0},\n",
       " {'text_amount': 'one lakh five thousand eight hundred forty rupees',\n",
       "  'number_amount': 105840.0},\n",
       " {'text_amount': 'one lac five thousand eight hundred forty rupees five paisa',\n",
       "  'number_amount': 105840.05},\n",
       " {'text_amount': 'five thousand rs and five paisa', 'number_amount': 5000.05},\n",
       " {'text_amount': 'five hundred rs', 'number_amount': 500.0},\n",
       " {'text_amount': 'twenty-two hundred and fifty five rs two paisa',\n",
       "  'number_amount': 20.02},\n",
       " {'text_amount': 'six thousand rupees', 'number_amount': 6000.0},\n",
       " {'text_amount': 'seventeen', 'number_amount': 0}]"
      ]
     },
     "execution_count": 80,
     "metadata": {},
     "output_type": "execute_result"
    }
   ],
   "source": [
    "[text_to_number_amount(amount) for amount in amount_list]"
   ]
  },
  {
   "cell_type": "code",
   "execution_count": null,
   "metadata": {},
   "outputs": [],
   "source": [
    "### Spell corrector"
   ]
  },
  {
   "cell_type": "code",
   "execution_count": 1,
   "metadata": {},
   "outputs": [],
   "source": [
    "from spello.model import SpellCorrectionModel\n",
    "sp = SpellCorrectionModel(language='en')\n",
    "# sp.load('en.pkl/en.pkl')\n"
   ]
  },
  {
   "cell_type": "code",
   "execution_count": null,
   "metadata": {},
   "outputs": [],
   "source": [
    "currency_words = [\n",
    "    \"one\", \"two\", \"three\", \"four\", \"five\", \"six\", \"seven\", \"eight\", \"nine\", \"ten\",\n",
    "    \"eleven\", \"twelve\", \"thirteen\", \"fourteen\", \"fifteen\", \"sixteen\", \"seventeen\", \"eighteen\", \"nineteen\", \"twenty\",\n",
    "    \"thirty\", \"forty\", \"fifty\", \"sixty\", \"seventy\", \"eighty\", \"ninety\",\n",
    "    \"hundred\", \"thousand\", \"lakh\", \"crore\", \"crore\",\"lac\", \"paisa\",'rupees'\n",
    "]\n",
    "sp.train(currency_words)\n",
    "sp.save(\"spell_check\")"
   ]
  },
  {
   "cell_type": "code",
   "execution_count": null,
   "metadata": {},
   "outputs": [],
   "source": [
    "from spello.model import SpellCorrectionModel\n",
    "\n",
    "sp = SpellCorrectionModel(language='en')\n",
    "sp.load(r\"E:\\ps_project_task\\research\\INR_conversion_project\\spell_check\\model.pkl\")  "
   ]
  },
  {
   "cell_type": "code",
   "execution_count": null,
   "metadata": {},
   "outputs": [],
   "source": [
    "text = \"tewlve rupee and two paisee\"\n",
    "sp.spell_correct(text= text.lower())[\"spell_corrected_text\"]"
   ]
  },
  {
   "cell_type": "code",
   "execution_count": null,
   "metadata": {},
   "outputs": [],
   "source": [
    "\n",
    "# imp\n",
    "# query splitter\n",
    "def split_query(text):\n",
    " \n",
    "    rupees_keywords = {'rupee', 'rupees', 'rs', 'rupaya'}\n",
    "    paisa_keywords = {'paisa', 'paise', 'pesa'}\n",
    "   \n",
    "   \n",
    "    text = ' '.join(text.lower().split())\n",
    "    words = text.split()\n",
    "   \n",
    " \n",
    "    rupees_part = []\n",
    "    paisa_part = []\n",
    "   \n",
    "    rupee_index = -1\n",
    "    paisa_index = -1\n",
    "   \n",
    "   \n",
    "    for i, word in enumerate(words):\n",
    "        if word in rupees_keywords:\n",
    "            rupee_index = i\n",
    "        elif word in paisa_keywords:\n",
    "            paisa_index = i\n",
    " \n",
    "    if rupee_index != -1:\n",
    "     \n",
    "        rupees_part = [word for word in words[:rupee_index]\n",
    "                      if not word.startswith(())]\n",
    "   \n",
    "    if rupee_index != -1 and paisa_index != -1:\n",
    "        paisa_part = words[rupee_index + 1:paisa_index]\n",
    "    elif paisa_index != -1:  \n",
    "        paisa_part = words[:paisa_index]\n",
    "   \n",
    "    return ' '.join(rupees_part), ' '.join(paisa_part)\n",
    " \n",
    "   \n",
    "# process seprately for rupees and pasia\n",
    "def process_amount(text):\n",
    "    try:\n",
    "        from word2number import w2n\n",
    "       \n",
    "       \n",
    "        rupees_text, paisa_text = split_query(text)\n",
    "       \n",
    "        rupees_text = ' '.join(word for word in rupees_text.split()\n",
    "                             if not word.startswith(()))\n",
    "       \n",
    "   \n",
    "        rupees_amount = w2n.word_to_num(rupees_text.strip()) if rupees_text.strip() else 0\n",
    "        paisa_amount = w2n.word_to_num(paisa_text.strip()) if paisa_text.strip() else 0\n",
    "       \n",
    "     \n",
    "        if paisa_amount > 99:\n",
    "            raise ValueError(\"Paisa amount cannot be more than 99\")\n",
    "       \n",
    "       \n",
    "        total_amount = f\"{rupees_amount}.{paisa_amount:02d}\"\n",
    "        return total_amount\n",
    "       \n",
    "    except Exception as e:\n",
    "        return f\"Error: {str(e)}\"\n",
    " \n",
    " \n",
    " \n",
    "##########################                  testing\n",
    " \n",
    "# query=\"i want to send sixty thousand ten rupees fifty five paisa \"\n",
    "query = \"two hundred and fifty five\"\n",
    "amount = process_amount(query)\n",
    "print(f\"Amount: Rs. {amount}\")"
   ]
  },
  {
   "cell_type": "code",
   "execution_count": null,
   "metadata": {},
   "outputs": [],
   "source": [
    "# Example usage\n",
    "text = \"Five crore twenty lakh fifty thousand fifty six\"\n",
    "amount = text_to_number_amount(text)\n",
    "print(amount)  # Output should be 5205056"
   ]
  },
  {
   "cell_type": "code",
   "execution_count": null,
   "metadata": {},
   "outputs": [],
   "source": [
    "\n",
    "text = \"one hundred two rupees\"\n",
    "text_to_number_amount(text)"
   ]
  },
  {
   "cell_type": "code",
   "execution_count": 14,
   "metadata": {},
   "outputs": [],
   "source": [
    "text = \"twenty lac five hundred twenty two point five paisa\"\n",
    "\n",
    "# to handle if paisa values are present\n",
    "rupees_keywords = {'rupee', 'rupees', 'rs', 'rupaya','point'}\n",
    "paisa_keywords = {'paisa', 'paise', 'pesa'}\n",
    "\n",
    "\n",
    "# text = ' '.join(text.lower().split())\n",
    "words = ' '.join(text.lower().split()).split()\n",
    "\n",
    "\n",
    "rupee_amount = \"\"\n",
    "paisa_amount = \"\"\n",
    "\n",
    "rupee_index = -1\n",
    "paisa_index = -1\n",
    "\n",
    "\n",
    "for i, word in enumerate(words):\n",
    "    if word in rupees_keywords:\n",
    "        rupee_index = i\n",
    "    elif word in paisa_keywords:\n",
    "        paisa_index = i\n",
    "\n",
    "if rupee_index != -1:\n",
    "    \n",
    "    rupee_amount = \" \".join([word for word in words[:rupee_index]\n",
    "                    if not word.startswith(())])\n",
    "\n",
    "if rupee_index != -1 and paisa_index != -1:\n",
    "    paisa_amount = \" \".join(words[rupee_index + 1:paisa_index])\n",
    "elif paisa_index != -1:  \n",
    "    paisa_amount = \" \".join(words[:paisa_index])"
   ]
  },
  {
   "cell_type": "code",
   "execution_count": null,
   "metadata": {},
   "outputs": [],
   "source": [
    "rupee_amount,paisa_amount"
   ]
  },
  {
   "cell_type": "code",
   "execution_count": 1,
   "metadata": {},
   "outputs": [],
   "source": []
  },
  {
   "cell_type": "code",
   "execution_count": null,
   "metadata": {},
   "outputs": [],
   "source": [
    "# # Define a dictionary to map words to numeric values\n",
    "# num_dict = {\n",
    "#     \"zero\": 0, \"one\": 1, \"two\": 2, \"three\": 3, \"four\": 4,\n",
    "#     \"five\": 5, \"six\": 6, \"seven\": 7, \"eight\": 8, \"nine\": 9,\n",
    "#     \"ten\": 10, \"eleven\": 11, \"twelve\": 12, \"thirteen\": 13,\n",
    "#     \"fourteen\": 14, \"fifteen\": 15, \"sixteen\": 16, \"seventeen\": 17,\n",
    "#     \"eighteen\": 18, \"nineteen\": 19, \"twenty\": 20, \"thirty\": 30,\n",
    "#     \"forty\": 40, \"fifty\": 50, \"sixty\": 60, \"seventy\": 70,\n",
    "#     \"eighty\": 80, \"ninety\": 90, \"hundred\": 100, \"thousand\": 1000\n",
    "# }\n",
    "\n",
    "# def words_to_number(text):\n",
    "#     words = text.lower().split()\n",
    "#     total = 0\n",
    "#     current_number = 0\n",
    "#     previous_number = 0\n",
    "\n",
    "#     for word in words:\n",
    "#         # Skip any word that is not a number or a valid place value (hundred, thousand, etc.)\n",
    "#         if word in num_dict:\n",
    "            \n",
    "#             # Process number words (e.g., \"two\", \"three\", \"fifty\")\n",
    "#             if word == \"hundred\":\n",
    "#                 current_number *= num_dict[word]  # Multiply the current number by 100\n",
    "#             elif word == \"thousand\":\n",
    "#                 total += current_number * num_dict[word]  # Add the thousand part\n",
    "#                 current_number = 0  # Reset current number\n",
    "#             else:\n",
    "#                 if previous_number > 0 and num_dict[word] >= 10:\n",
    "#                     # If there's a smaller number followed by a tens number (like \"two fifty\")\n",
    "#                     current_number += previous_number * num_dict[word]\n",
    "#                     previous_number = 0  # Reset previous number\n",
    "#                 else:\n",
    "#                     previous_number = num_dict[word]\n",
    "\n",
    "#             total += current_number  # Add the last part\n",
    "#             return total\n",
    "\n"
   ]
  },
  {
   "cell_type": "markdown",
   "metadata": {},
   "source": [
    "### test 2"
   ]
  },
  {
   "cell_type": "code",
   "execution_count": 132,
   "metadata": {},
   "outputs": [],
   "source": [
    "amount_text = \"five lac twenty two thousand two hundred twenty two\""
   ]
  },
  {
   "cell_type": "code",
   "execution_count": 133,
   "metadata": {},
   "outputs": [],
   "source": [
    "num_dict = {\n",
    "    \"zero\": 0, \"one\": 1, \"two\": 2, \"three\": 3, \"four\": 4,\n",
    "    \"five\": 5, \"six\": 6, \"seven\": 7, \"eight\": 8, \"nine\": 9,\n",
    "    \"ten\": 10, \"eleven\": 11, \"twelve\": 12, \"thirteen\": 13,\n",
    "    \"fourteen\": 14, \"fifteen\": 15, \"sixteen\": 16, \"seventeen\": 17,\n",
    "    \"eighteen\": 18, \"nineteen\": 19, \"twenty\": 20, \"thirty\": 30,\n",
    "    \"forty\": 40, \"fifty\": 50, \"sixty\": 60, \"seventy\": 70,\n",
    "    \"eighty\": 80, \"ninety\": 90, \"hundred\": 100, \"thousand\": 1000, \"lac\":100000\n",
    "}\n",
    "mul_lst = [100,1000,100000]"
   ]
  },
  {
   "cell_type": "code",
   "execution_count": null,
   "metadata": {},
   "outputs": [],
   "source": [
    "lst_ = [num_dict[i] for i in amount_text.split()]\n",
    "lst_.insert(0,0)\n",
    "lst_.append(0)\n",
    "lst_.append(0)\n",
    "lst_"
   ]
  },
  {
   "cell_type": "code",
   "execution_count": null,
   "metadata": {},
   "outputs": [],
   "source": [
    "final_lst = []\n",
    "for i in range(len(lst_)-2):\n",
    "    # print(lst_[i])\n",
    "    \n",
    "    if lst_[i+2] in mul_lst and lst_[i] not in mul_lst:\n",
    "         num1 = (lst_[i]+lst_[i+1]) * lst_[i+2]\n",
    "         print(num1)\n",
    "         final_lst.append(num1)\n",
    "    \n",
    "    elif lst_[i+1] in mul_lst:\n",
    "        if lst_[i-1] not in mul_lst:\n",
    "             pass\n",
    "        else:\n",
    "            # print(lst_[i+1])\n",
    "            num1 = lst_[i]* lst_[i+1]\n",
    "            print(num1)\n",
    "            final_lst.append(num1)\n",
    "\n",
    "    elif lst_[i] not in mul_lst:\n",
    "            num1 = lst_[i]\n",
    "            print(num1)\n",
    "            final_lst.append(num1)\n",
    "    \n",
    "sum(final_lst)"
   ]
  },
  {
   "cell_type": "markdown",
   "metadata": {},
   "source": [
    "### test 3"
   ]
  },
  {
   "cell_type": "code",
   "execution_count": 133,
   "metadata": {},
   "outputs": [
    {
     "name": "stdout",
     "output_type": "stream",
     "text": [
      "['twenty', 'two', '#']\n",
      "xxx\n"
     ]
    },
    {
     "data": {
      "text/plain": [
       "22"
      ]
     },
     "execution_count": 133,
     "metadata": {},
     "output_type": "execute_result"
    }
   ],
   "source": [
    "\n",
    "\n",
    "text = \"twenty two\"\n",
    "\n",
    "num_dict = {\n",
    "    \"zero\": 0, \"one\": 1, \"two\": 2, \"three\": 3, \"four\": 4,\n",
    "    \"five\": 5, \"six\": 6, \"seven\": 7, \"eight\": 8, \"nine\": 9,\n",
    "    \"ten\": 10, \"eleven\": 11, \"twelve\": 12, \"thirteen\": 13,\n",
    "    \"fourteen\": 14, \"fifteen\": 15, \"sixteen\": 16, \"seventeen\": 17,\n",
    "    \"eighteen\": 18, \"nineteen\": 19, \"twenty\": 20, \"thirty\": 30,\n",
    "    \"forty\": 40, \"fifty\": 50, \"sixty\": 60, \"seventy\": 70,\n",
    "    \"eighty\": 80, \"ninety\": 90, \"hundred\": 100, \"thousand\": 1000, \"lac\":100000 , \"#\": 0\n",
    "        }\n",
    "\n",
    "one_digit = {\n",
    "    \"zero\": 0, \"one\": 1, \"two\": 2, \"three\": 3, \"four\": 4,\n",
    "    \"five\": 5, \"six\": 6, \"seven\": 7, \"eight\": 8, \"nine\": 9\n",
    "        }\n",
    "two_digit = {\"ten\": 10, \"eleven\": 11, \"twelve\": 12, \"thirteen\": 13,\n",
    "    \"fourteen\": 14, \"fifteen\": 15, \"sixteen\": 16, \"seventeen\": 17,\n",
    "    \"eighteen\": 18, \"nineteen\": 19, \"twenty\": 20, \"thirty\": 30,\n",
    "    \"forty\": 40, \"fifty\": 50, \"sixty\": 60, \"seventy\": 70,\n",
    "    \"eighty\": 80, \"ninety\": 90\n",
    "    }\n",
    "\n",
    "\n",
    "\n",
    "text_list = text.split()\n",
    "text_list.append(\"#\")\n",
    "print(text_list)\n",
    "lst1 = []\n",
    "\n",
    "for i,v in enumerate(text_list):\n",
    "    if text_list[i-1] not in two_digit and text_list[i] in one_digit:\n",
    "        lst1.append(num_dict[text_list[i]])\n",
    "\n",
    "    elif text_list[i] in two_digit and text_list[i+1] in one_digit:\n",
    "        lst1.append(num_dict[text_list[i]]+num_dict[text_list[i+1]])\n",
    "\n",
    "    elif text_list[i-1] in two_digit and text_list[i] in one_digit:\n",
    "        pass\n",
    "    else:\n",
    "        print(\"xxx\")\n",
    "        lst1.append(num_dict[v])\n",
    "\n",
    "eval(\"\".join([str(i) for i in lst1[:-1]]) )\n"
   ]
  },
  {
   "cell_type": "markdown",
   "metadata": {},
   "source": [
    "### merged code"
   ]
  },
  {
   "cell_type": "code",
   "execution_count": 135,
   "metadata": {},
   "outputs": [],
   "source": [
    "def text_to_num(text):\n",
    "\n",
    "    one_digit = {\n",
    "    \"zero\": 0, \"one\": 1, \"two\": 2, \"three\": 3, \"four\": 4,\n",
    "    \"five\": 5, \"six\": 6, \"seven\": 7, \"eight\": 8, \"nine\": 9\n",
    "        }\n",
    "    \n",
    "    two_digit = {\"ten\": 10, \"eleven\": 11, \"twelve\": 12, \"thirteen\": 13,\n",
    "        \"fourteen\": 14, \"fifteen\": 15, \"sixteen\": 16, \"seventeen\": 17,\n",
    "        \"eighteen\": 18, \"nineteen\": 19, \"twenty\": 20, \"thirty\": 30,\n",
    "        \"forty\": 40, \"fifty\": 50, \"sixty\": 60, \"seventy\": 70,\n",
    "        \"eighty\": 80, \"ninety\": 90\n",
    "        }\n",
    "    \n",
    "\n",
    "    num_dict = {\n",
    "    \"zero\": 0, \"one\": 1, \"two\": 2, \"three\": 3, \"four\": 4,\n",
    "    \"five\": 5, \"six\": 6, \"seven\": 7, \"eight\": 8, \"nine\": 9,\n",
    "    \"ten\": 10, \"eleven\": 11, \"twelve\": 12, \"thirteen\": 13,\n",
    "    \"fourteen\": 14, \"fifteen\": 15, \"sixteen\": 16, \"seventeen\": 17,\n",
    "    \"eighteen\": 18, \"nineteen\": 19, \"twenty\": 20, \"thirty\": 30,\n",
    "    \"forty\": 40, \"fifty\": 50, \"sixty\": 60, \"seventy\": 70,\n",
    "    \"eighty\": 80, \"ninety\": 90, \"hundred\": 100, \"thousand\": 1000, \"lac\":100000 ,\"#\": 0\n",
    "        }\n",
    "    \n",
    "    mul_lst = [100,1000,100000]\n",
    "\n",
    "    text_num_list = [num_dict[i] for i in text.split()]\n",
    "    common_elements = set(mul_lst) & set(text_num_list)\n",
    "\n",
    "    text_list = text.lower().split()\n",
    "\n",
    "    if common_elements:\n",
    "        print(\"currecy word found!\")\n",
    "        lst_ = [num_dict[i] for i in text_list]\n",
    "        lst_.insert(0,0)\n",
    "        lst_.append(0)\n",
    "        lst_.append(0)\n",
    "        print(lst_)\n",
    "        final_lst = []\n",
    "        for i in range(len(lst_)-2):\n",
    "            \n",
    "            if lst_[i+2] in mul_lst and lst_[i] not in mul_lst:\n",
    "                if lst_[i] > lst_[i+1]:\n",
    "                    num1 = (lst_[i]+lst_[i+1]) * lst_[i+2]\n",
    "                    # print(num1)\n",
    "                    final_lst.append(num1)\n",
    "                elif lst_[i] < lst_[i+1]:\n",
    "                    if lst_[i+2] !=0:\n",
    "                        num1 = eval(str(lst_[i])+str(lst_[i+1])) * lst_[i+2]\n",
    "                        final_lst.append(num1)\n",
    "                    else:\n",
    "                        num1 = eval(str(lst_[i])+str(lst_[i+1]))\n",
    "                        final_lst.append(num1)\n",
    "            \n",
    "            elif lst_[i+1] in mul_lst:\n",
    "                if lst_[i-1] not in mul_lst:\n",
    "                    pass\n",
    "                else:\n",
    "                    # print(lst_[i+1])\n",
    "                    num1 = lst_[i]* lst_[i+1]\n",
    "                    # print(num1)\n",
    "                    final_lst.append(num1)\n",
    "\n",
    "            elif lst_[i] not in mul_lst:\n",
    "                    num1 = lst_[i]\n",
    "                    # print(num1)\n",
    "                    final_lst.append(num1)\n",
    "        print(final_lst)\n",
    "        return sum(final_lst)\n",
    "    \n",
    "    else:\n",
    "        print(\"No currancy word found! \")\n",
    "        text_list = text.split()\n",
    "        text_list.append(\"#\")\n",
    "        lst_ = []\n",
    "        \n",
    "        for i,v in enumerate(text_list):\n",
    "            if text_list[i-1] not in two_digit and text_list[i] in one_digit:\n",
    "                lst_.append(num_dict[text_list[i]])\n",
    "\n",
    "            elif text_list[i] in two_digit and text_list[i+1] in one_digit:\n",
    "                lst_.append(num_dict[text_list[i]]+num_dict[text_list[i+1]])\n",
    "\n",
    "            elif text_list[i-1] in two_digit and text_list[i] in one_digit:\n",
    "                pass\n",
    "            else:\n",
    "                \n",
    "                lst_.append(num_dict[v])\n",
    "    \n",
    "        return eval(\"\".join([str(i) for i in lst_[:-1]]) )\n",
    "    "
   ]
  },
  {
   "cell_type": "code",
   "execution_count": 136,
   "metadata": {},
   "outputs": [],
   "source": [
    "\n",
    "def detect_rupee_paisa_part(text):\n",
    "    # to handle if paisa values are present\n",
    "    rupees_keywords = {'rupee', 'rupees', 'rs', 'rupaya','point'}\n",
    "    paisa_keywords = {'paisa', 'paise', 'pesa'}\n",
    "\n",
    "\n",
    "    # text = ' '.join(text.lower().split())\n",
    "    words = ' '.join(text.lower().split()).split()\n",
    "\n",
    "\n",
    "    rupee_amount = \"\"\n",
    "    paisa_amount = \"\"\n",
    "\n",
    "    rupee_index = -1\n",
    "    paisa_index = -1\n",
    "\n",
    "\n",
    "    for i, word in enumerate(words):\n",
    "        if word in rupees_keywords:\n",
    "            rupee_index = i\n",
    "        elif word in paisa_keywords:\n",
    "            paisa_index = i\n",
    "\n",
    "    if rupee_index != -1:\n",
    "        \n",
    "        rupee_amount = \" \".join([word for word in words[:rupee_index]\n",
    "                        if not word.startswith(())])\n",
    "\n",
    "    if rupee_index != -1 and paisa_index != -1:\n",
    "        paisa_amount = \" \".join(words[rupee_index + 1:paisa_index])\n",
    "    elif paisa_index != -1:  \n",
    "        paisa_amount = \" \".join(words[:paisa_index])\n",
    "\n",
    "    return rupee_amount,paisa_amount\n",
    "\n",
    "\n"
   ]
  },
  {
   "cell_type": "code",
   "execution_count": 137,
   "metadata": {},
   "outputs": [],
   "source": [
    "# text = \"twenty lac five hundred twenty two rupee five paisa\"\n",
    "# text = \" twenty two hundred rupee fifty paisa\"\n",
    "text = \" ONE THOUSAND one EIGHTY \"\n",
    "# text = \"twenty lac five hundred twenty two point fifty\"\n",
    "# text =\" send thirty three thousand five hundred rupee and fifty paise\"\n"
   ]
  },
  {
   "cell_type": "code",
   "execution_count": 138,
   "metadata": {},
   "outputs": [
    {
     "data": {
      "text/plain": [
       "('', '')"
      ]
     },
     "execution_count": 138,
     "metadata": {},
     "output_type": "execute_result"
    }
   ],
   "source": [
    "rupee_amount,paisa_amount = detect_rupee_paisa_part(text)\n",
    "rupee_amount,paisa_amount\n",
    "# ' '.join(text.lower().split()).split()"
   ]
  },
  {
   "cell_type": "code",
   "execution_count": 139,
   "metadata": {},
   "outputs": [
    {
     "data": {
      "text/plain": [
       "('', '')"
      ]
     },
     "execution_count": 139,
     "metadata": {},
     "output_type": "execute_result"
    }
   ],
   "source": [
    "num_dict = {\n",
    "    \"zero\": 0, \"one\": 1, \"two\": 2, \"three\": 3, \"four\": 4,\n",
    "    \"five\": 5, \"six\": 6, \"seven\": 7, \"eight\": 8, \"nine\": 9,\n",
    "    \"ten\": 10, \"eleven\": 11, \"twelve\": 12, \"thirteen\": 13,\n",
    "    \"fourteen\": 14, \"fifteen\": 15, \"sixteen\": 16, \"seventeen\": 17,\n",
    "    \"eighteen\": 18, \"nineteen\": 19, \"twenty\": 20, \"thirty\": 30,\n",
    "    \"forty\": 40, \"fifty\": 50, \"sixty\": 60, \"seventy\": 70,\n",
    "    \"eighty\": 80, \"ninety\": 90, \"hundred\": 100, \"thousand\": 1000, \"lac\":100000 ,\"#\": 0\n",
    "        }\n",
    "rupee_amount = \" \".join([i for i in rupee_amount.split() if i in num_dict])\n",
    "paisa_amount = \" \".join([i for i in paisa_amount.split() if i in num_dict])\n",
    "\n",
    "rupee_amount,paisa_amount"
   ]
  },
  {
   "cell_type": "code",
   "execution_count": null,
   "metadata": {},
   "outputs": [],
   "source": []
  },
  {
   "cell_type": "code",
   "execution_count": 140,
   "metadata": {},
   "outputs": [
    {
     "name": "stdout",
     "output_type": "stream",
     "text": [
      "currecy word found!\n",
      "[0, 1, 1000, 1, 80, 0, 0]\n",
      "Fail to fetch amount.\n",
      "\n"
     ]
    }
   ],
   "source": [
    "\n",
    "\n",
    "\n",
    "# num_dict = {\n",
    "#     \"zero\": 0, \"one\": 1, \"two\": 2, \"three\": 3, \"four\": 4,\n",
    "#     \"five\": 5, \"six\": 6, \"seven\": 7, \"eight\": 8, \"nine\": 9,\n",
    "#     \"ten\": 10, \"eleven\": 11, \"twelve\": 12, \"thirteen\": 13,\n",
    "#     \"fourteen\": 14, \"fifteen\": 15, \"sixteen\": 16, \"seventeen\": 17,\n",
    "#     \"eighteen\": 18, \"nineteen\": 19, \"twenty\": 20, \"thirty\": 30,\n",
    "#     \"forty\": 40, \"fifty\": 50, \"sixty\": 60, \"seventy\": 70,\n",
    "#     \"eighty\": 80, \"ninety\": 90, \"hundred\": 100, \"thousand\": 1000, \"lac\":100000 ,\"#\": 0\n",
    "#         }\n",
    "# rupee_amount = \" \".join([i for i in rupee_amount.split() if i in num_dict or i in currancy_list])\n",
    "# paisa_amount = \" \".join([i for i in paisa_amount.split() if i in num_dict or i in currancy_list])\n",
    "\n",
    "\n",
    "# rupee_amount,paisa_amount = detect_rupee_paisa_part(text)\n",
    "\n",
    "currancy_list = [\"rupee\",\"paisa\",\"paise\",\"rupees\",\"rs\",\"rupay\"]\n",
    "common_elements = set(currancy_list) & set(text.split())\n",
    "\n",
    "result = \"\"\n",
    "if common_elements:\n",
    "\n",
    "    try:\n",
    "        x = f\"{text_to_num(rupee_amount)}\"\n",
    "    except:\n",
    "        x = \"\"\n",
    "    try:\n",
    "        y = f\"{text_to_num(paisa_amount):02}\"\n",
    "    except:\n",
    "        y = \"\"\n",
    "\n",
    "    if x and y==\"\":\n",
    "        print(\"No paisa found\")\n",
    "        result = x\n",
    "    elif x and y:\n",
    "        print(\"Rupee and paisa Found\")\n",
    "        result = x+\".\"+y\n",
    "    elif x == \"\" and y:\n",
    "        print(\"only Paisa Found\")\n",
    "        result = \"0.\"+y\n",
    "    # f\"{text_to_num(rupee_amount)}.{text_to_num(paisa_amount):02}\"\n",
    "\n",
    "else:\n",
    "    try:\n",
    "        x = f\"{text_to_num(text.lower())}\"\n",
    "        result = x\n",
    "    except:\n",
    "        print(\"Fail to fetch amount.\")\n",
    "\n",
    "print(result)"
   ]
  },
  {
   "cell_type": "code",
   "execution_count": null,
   "metadata": {},
   "outputs": [],
   "source": []
  },
  {
   "cell_type": "code",
   "execution_count": 3,
   "metadata": {},
   "outputs": [
    {
     "name": "stdout",
     "output_type": "stream",
     "text": [
      "No currancy word found!\n",
      "No currancy word found!\n",
      "No currancy word found!\n",
      "No currancy word found!\n",
      "No currancy word found!\n",
      "No currancy word found!\n",
      "No currancy word found!\n",
      "No currancy word found!\n",
      "No currancy word found!\n"
     ]
    },
    {
     "data": {
      "text/plain": [
       "{'one two three four': '1234',\n",
       " 'fifty five hundred': '5500',\n",
       " 'twenty twenty': '2020',\n",
       " 'three ten': '310',\n",
       " 'two hundred fifty': '250',\n",
       " 'two fifty': '250',\n",
       " ' ten thousand one eighty': '10081',\n",
       " 'one eighty': '180',\n",
       " 'one thousand one eighty': '1081'}"
      ]
     },
     "execution_count": 3,
     "metadata": {},
     "output_type": "execute_result"
    }
   ],
   "source": [
    "from text_to_number_v2 import extract_amount\n",
    "test_case = [\"one two three four\", \"fifty five hundred\", \"twenty twenty\", \"three ten\", \"two hundred fifty\", \"two fifty\", \" ten thousand one eighty\", \"one eighty\", \"one thousand one eighty\"]\n",
    "{i:extract_amount(i) for i in test_case}"
   ]
  },
  {
   "cell_type": "code",
   "execution_count": null,
   "metadata": {},
   "outputs": [],
   "source": []
  },
  {
   "cell_type": "code",
   "execution_count": null,
   "metadata": {},
   "outputs": [
    {
     "name": "stdout",
     "output_type": "stream",
     "text": [
      "currecy word found!\n",
      "[0, 1, 1000, 1, 80, 0, 0]\n",
      "0\n",
      "1\n",
      "1000\n",
      "1\n",
      "80\n",
      "--\n",
      "[1000, 180]\n"
     ]
    }
   ],
   "source": [
    "text = \" \"\n",
    "\n",
    "one_digit = {\n",
    "\"zero\": 0, \"one\": 1, \"two\": 2, \"three\": 3, \"four\": 4,\n",
    "\"five\": 5, \"six\": 6, \"seven\": 7, \"eight\": 8, \"nine\": 9\n",
    "    }\n",
    "\n",
    "two_digit = {\"ten\": 10, \"eleven\": 11, \"twelve\": 12, \"thirteen\": 13,\n",
    "    \"fourteen\": 14, \"fifteen\": 15, \"sixteen\": 16, \"seventeen\": 17,\n",
    "    \"eighteen\": 18, \"nineteen\": 19, \"twenty\": 20, \"thirty\": 30,\n",
    "    \"forty\": 40, \"fifty\": 50, \"sixty\": 60, \"seventy\": 70,\n",
    "    \"eighty\": 80, \"ninety\": 90\n",
    "    }\n",
    "\n",
    "\n",
    "num_dict = {\n",
    "\"zero\": 0, \"one\": 1, \"two\": 2, \"three\": 3, \"four\": 4,\n",
    "\"five\": 5, \"six\": 6, \"seven\": 7, \"eight\": 8, \"nine\": 9,\n",
    "\"ten\": 10, \"eleven\": 11, \"twelve\": 12, \"thirteen\": 13,\n",
    "\"fourteen\": 14, \"fifteen\": 15, \"sixteen\": 16, \"seventeen\": 17,\n",
    "\"eighteen\": 18, \"nineteen\": 19, \"twenty\": 20, \"thirty\": 30,\n",
    "\"forty\": 40, \"fifty\": 50, \"sixty\": 60, \"seventy\": 70,\n",
    "\"eighty\": 80, \"ninety\": 90, \"hundred\": 100, \"thousand\": 1000, \"lac\":100000 ,\"#\": 0\n",
    "    }\n",
    "\n",
    "mul_lst = [100,1000,100000]\n",
    "\n",
    "text_num_list = [num_dict[i] for i in text.split()]\n",
    "common_elements = set(mul_lst) & set(text_num_list)\n",
    "\n",
    "text_list = text.lower().split()\n",
    "final_lst = []\n",
    "if common_elements:\n",
    "    print(\"currecy word found!\")\n",
    "    lst_ = [num_dict[i] for i in text_list]\n",
    "    lst_.insert(0,0)\n",
    "    lst_.append(0)\n",
    "    lst_.append(0)\n",
    "\n",
    "    print(lst_)\n",
    "    \n",
    "\n",
    "    for i in range(len(lst_)-2):\n",
    "        print(lst_[i])\n",
    "        if lst_[i]!=0 and lst_[i+2] in mul_lst and lst_[i] not in mul_lst:\n",
    "            if lst_[i] > lst_[i+1]:\n",
    "                num1 = (lst_[i]+lst_[i+1]) * (lst_[i+2])\n",
    "                # print(num1)\n",
    "                final_lst.append(num1)\n",
    "            elif lst_[i] < lst_[i+1]:    \n",
    "\n",
    "                print(\"ON \", lst_[i])\n",
    "                num1 = eval(str(lst_[i])+str(lst_[i+1])) * lst_[i+2]\n",
    "                final_lst.append(num1)\n",
    "                \n",
    "        elif lst_[i]!=0 and lst_[i+1] in mul_lst:\n",
    "            if lst_[i-1] not in mul_lst:\n",
    "                num1 = lst_[i] * lst_[i+1]\n",
    "                final_lst.append(num1)\n",
    "\n",
    "\n",
    "        elif lst_[i]!=0 and lst_[i+1]!=0 and lst_[i] not in mul_lst and lst_[i+1] not in mul_lst:\n",
    "                num1 = str(lst_[i]) + str(lst_[i+1])\n",
    "                # print(num1)\n",
    "                final_lst.append(int(num1))\n",
    "\n",
    "        elif lst_[i]!=0 and lst_[i] not in mul_lst and lst_[i-1] in mul_lst:\n",
    "                num1 = lst_[i]\n",
    "                # print(num1)\n",
    "                final_lst.append(int(num1))\n",
    "print(\"--\")\n",
    "print(final_lst)"
   ]
  },
  {
   "cell_type": "code",
   "execution_count": null,
   "metadata": {},
   "outputs": [],
   "source": [
    "\n",
    "##---------------------------------------------------test\n",
    "#  \n",
    "def text_to_num(text):\n",
    "\n",
    "    one_digit = {\n",
    "    \"zero\": 0, \"one\": 1, \"two\": 2, \"three\": 3, \"four\": 4,\n",
    "    \"five\": 5, \"six\": 6, \"seven\": 7, \"eight\": 8, \"nine\": 9\n",
    "        }\n",
    "    \n",
    "    two_digit = {\"ten\": 10, \"eleven\": 11, \"twelve\": 12, \"thirteen\": 13,\n",
    "        \"fourteen\": 14, \"fifteen\": 15, \"sixteen\": 16, \"seventeen\": 17,\n",
    "        \"eighteen\": 18, \"nineteen\": 19, \"twenty\": 20, \"thirty\": 30,\n",
    "        \"forty\": 40, \"fifty\": 50, \"sixty\": 60, \"seventy\": 70,\n",
    "        \"eighty\": 80, \"ninety\": 90\n",
    "        }\n",
    "    \n",
    "\n",
    "    num_dict = {\n",
    "    \"zero\": 0, \"one\": 1, \"two\": 2, \"three\": 3, \"four\": 4,\n",
    "    \"five\": 5, \"six\": 6, \"seven\": 7, \"eight\": 8, \"nine\": 9,\n",
    "    \"ten\": 10, \"eleven\": 11, \"twelve\": 12, \"thirteen\": 13,\n",
    "    \"fourteen\": 14, \"fifteen\": 15, \"sixteen\": 16, \"seventeen\": 17,\n",
    "    \"eighteen\": 18, \"nineteen\": 19, \"twenty\": 20, \"thirty\": 30,\n",
    "    \"forty\": 40, \"fifty\": 50, \"sixty\": 60, \"seventy\": 70,\n",
    "    \"eighty\": 80, \"ninety\": 90, \"hundred\": 100, \"thousand\": 1000, \"lac\":100000 ,\"#\": 0\n",
    "        }\n",
    "    \n",
    "    mul_lst = [100,1000,100000]\n",
    "\n",
    "    text_num_list = [num_dict[i] for i in text.split()]\n",
    "    common_elements = set(mul_lst) & set(text_num_list)\n",
    "\n",
    "    text_list = text.lower().split()\n",
    "\n",
    "    if common_elements:\n",
    "        print(\"currecy word found!\")\n",
    "        lst_ = [num_dict[i] for i in text_list]\n",
    "        lst_.insert(0,0)\n",
    "        lst_.append(0)\n",
    "        lst_.append(0)\n",
    "\n",
    "        final_lst = []\n",
    "\n",
    "        for i in range(len(lst_)-2):\n",
    "                    \n",
    "            if lst_[i]!=0 and lst_[i+1] in mul_lst:\n",
    "                if lst_[i-1] not in mul_lst:\n",
    "                    num1 = lst_[i] * lst_[i+1]\n",
    "                    final_lst.append(num1)\n",
    "\n",
    "\n",
    "            elif lst_[i]!=0 and lst_[i+1]!=0 and lst_[i] not in mul_lst and lst_[i+1] not in mul_lst:\n",
    "                    num1 = str(lst_[i]) + str(lst_[i+1])\n",
    "                    # print(num1)\n",
    "                    final_lst.append(int(num1))\n",
    "\n",
    "            elif lst_[i]!=0 and lst_[i] not in mul_lst and lst_[i-1] in mul_lst:\n",
    "                    num1 = lst_[i]\n",
    "                    # print(num1)\n",
    "                    final_lst.append(int(num1))\n",
    "            # print(final_lst)\n",
    "        return sum(final_lst)\n",
    "    \n",
    "  \n",
    "    "
   ]
  },
  {
   "cell_type": "code",
   "execution_count": 2,
   "metadata": {},
   "outputs": [
    {
     "name": "stdout",
     "output_type": "stream",
     "text": [
      "1510\n"
     ]
    }
   ],
   "source": [
    "text =  \" one thousand five ten\"\n",
    "\n",
    "\n",
    "\n",
    "one_digit = {\n",
    "    \"zero\": 0, \"one\": 1, \"two\": 2, \"three\": 3, \"four\": 4,\n",
    "    \"five\": 5, \"six\": 6, \"seven\": 7, \"eight\": 8, \"nine\": 9\n",
    "        }\n",
    "    \n",
    "two_digit = {\"ten\": 10, \"eleven\": 11, \"twelve\": 12, \"thirteen\": 13,\n",
    "    \"fourteen\": 14, \"fifteen\": 15, \"sixteen\": 16, \"seventeen\": 17,\n",
    "    \"eighteen\": 18, \"nineteen\": 19, \"twenty\": 20, \"thirty\": 30,\n",
    "    \"forty\": 40, \"fifty\": 50, \"sixty\": 60, \"seventy\": 70,\n",
    "    \"eighty\": 80, \"ninety\": 90\n",
    "    }\n",
    "\n",
    "\n",
    "num_dict = {\n",
    "\"zero\": 0, \"one\": 1, \"two\": 2, \"three\": 3, \"four\": 4,\n",
    "\"five\": 5, \"six\": 6, \"seven\": 7, \"eight\": 8, \"nine\": 9,\n",
    "\"ten\": 10, \"eleven\": 11, \"twelve\": 12, \"thirteen\": 13,\n",
    "\"fourteen\": 14, \"fifteen\": 15, \"sixteen\": 16, \"seventeen\": 17,\n",
    "\"eighteen\": 18, \"nineteen\": 19, \"twenty\": 20, \"thirty\": 30,\n",
    "\"forty\": 40, \"fifty\": 50, \"sixty\": 60, \"seventy\": 70,\n",
    "\"eighty\": 80, \"ninety\": 90, \"hundred\": 100, \"thousand\": 1000, \"lac\":100000 ,\"#\": 0\n",
    "    }\n",
    "\n",
    "mul_lst = [100,1000,100000]\n",
    "\n",
    "txt_lst = text.lower().split()\n",
    "if len(set(txt_lst)&set([\"hundred\",\"thousand\", \"lakh\",\"lac\"])) == 1:\n",
    "    for i in txt_lst:\n",
    "        if i == \"thousand\":\n",
    "            lst_ = [num_dict[i] for i in txt_lst]\n",
    "            lst_.insert(0,0)\n",
    "            lst_.append(0)\n",
    "            lst_.append(0)\n",
    "\n",
    "            final_lst = []\n",
    "\n",
    "            for i in range(len(lst_)-2):\n",
    "                        \n",
    "                if lst_[i]!=0 and lst_[i+1] in mul_lst:\n",
    "                    if lst_[i-1] not in mul_lst:\n",
    "                        num1 = lst_[i] * lst_[i+1]\n",
    "                        final_lst.append(num1)\n",
    "\n",
    "\n",
    "                elif lst_[i]!=0 and lst_[i+1]!=0 and lst_[i] not in mul_lst and lst_[i+1] not in mul_lst:\n",
    "                        num1 = str(lst_[i]) + str(lst_[i+1])\n",
    "                        # print(num1)\n",
    "                        final_lst.append(int(num1))\n",
    "\n",
    "                elif lst_[i]!=0 and lst_[i] not in mul_lst and lst_[i-1] in mul_lst:\n",
    "                        num1 = lst_[i]\n",
    "                        # print(num1)\n",
    "                        final_lst.append(int(num1))\n",
    "                # print(final_lst)\n",
    "print(sum(final_lst))"
   ]
  },
  {
   "cell_type": "code",
   "execution_count": 4,
   "metadata": {},
   "outputs": [
    {
     "name": "stdout",
     "output_type": "stream",
     "text": [
      "No currancy word found!\n"
     ]
    },
    {
     "data": {
      "text/plain": [
       "'1015'"
      ]
     },
     "execution_count": 4,
     "metadata": {},
     "output_type": "execute_result"
    }
   ],
   "source": [
    "from text_to_number_v2 import extract_amount\n",
    "extract_amount(\"one thousand five ten\")"
   ]
  },
  {
   "cell_type": "code",
   "execution_count": null,
   "metadata": {},
   "outputs": [],
   "source": []
  }
 ],
 "metadata": {
  "kernelspec": {
   "display_name": ".venv",
   "language": "python",
   "name": "python3"
  },
  "language_info": {
   "codemirror_mode": {
    "name": "ipython",
    "version": 3
   },
   "file_extension": ".py",
   "mimetype": "text/x-python",
   "name": "python",
   "nbconvert_exporter": "python",
   "pygments_lexer": "ipython3",
   "version": "3.10.11"
  }
 },
 "nbformat": 4,
 "nbformat_minor": 2
}
